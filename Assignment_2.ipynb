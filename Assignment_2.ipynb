{
  "cells": [
    {
      "cell_type": "markdown",
      "metadata": {
        "colab_type": "text",
        "id": "view-in-github"
      },
      "source": [
        "<a href=\"https://colab.research.google.com/github/kumarpriyanshu2k2/Computer-Vision-Assignments/blob/main/Assignment_2.ipynb\" target=\"_parent\"><img src=\"https://colab.research.google.com/assets/colab-badge.svg\" alt=\"Open In Colab\"/></a>"
      ]
    },
    {
      "cell_type": "markdown",
      "metadata": {
        "id": "5gnVmnCuRVO6"
      },
      "source": [
        "<center>\n",
        "<h1><strong> Computer Vision assignment 2 </strong></h1>\n",
        "</center>"
      ]
    },
    {
      "cell_type": "markdown",
      "metadata": {
        "id": "0zSwRgknRiQu"
      },
      "source": [
        "**This assignment will challenge your understanding of basic python programming paradigm and evaluate your intution of numpy **\n",
        "\n",
        "- Make sure all the implementations are general and should work for any test case that we use\n",
        "- Numpy link: https://www.youtube.com/watch?v=QUT1VHiLmmI&t=958s \n",
        "- the above link will provide a general introduction to numpy - if additional information is needed refer to the documentation \n",
        "\n"
      ]
    },
    {
      "cell_type": "markdown",
      "metadata": {
        "id": "IRUoYr2u2Eeg"
      },
      "source": [
        "## **Instructions :**"
      ]
    },
    {
      "cell_type": "markdown",
      "metadata": {
        "id": "si5j_ygayB6p"
      },
      "source": [
        "\n",
        "- Make a copy of this Colab notebook (else any changes you make wont be saved)\n",
        "- Feel free to add more code blocks in between questions if you feel you need it\n",
        "- Submit the link of your Colab notebook on this [Link](https://forms.gle/ncuP2Xr5JhE6Hxcx9) once you are done with the assignment (Make sure to give edit access to BITS Pilani University)"
      ]
    },
    {
      "cell_type": "markdown",
      "metadata": {
        "id": "aObvH5Q-2co2"
      },
      "source": [
        "---\n",
        "## **Numpy**"
      ]
    },
    {
      "cell_type": "code",
      "execution_count": null,
      "metadata": {
        "id": "ekt88Ug9o1DN"
      },
      "outputs": [],
      "source": [
        "import numpy as np\n",
        "import string"
      ]
    },
    {
      "cell_type": "markdown",
      "metadata": {
        "id": "0Fka-WJeeAiW"
      },
      "source": [
        "\n",
        "#### `Q1) create a 1-D numpy array with elements from 0 to 10`"
      ]
    },
    {
      "cell_type": "code",
      "execution_count": null,
      "metadata": {
        "id": "aR13iSUpfGu_"
      },
      "outputs": [],
      "source": [
        "z=np.linspace(0,10,11)\n",
        "print(z)"
      ]
    },
    {
      "cell_type": "markdown",
      "metadata": {
        "id": "B5EghpLPfJw8"
      },
      "source": [
        "\n",
        "#### `Q2) Create a 2D numpy array of shape = (7,8)`"
      ]
    },
    {
      "cell_type": "code",
      "execution_count": null,
      "metadata": {
        "id": "UFQ9zOPOfLNM"
      },
      "outputs": [],
      "source": [
        "z=np.zeros(56)\n",
        "z.shape=(7,8)\n",
        "print(z)"
      ]
    },
    {
      "cell_type": "markdown",
      "metadata": {
        "id": "RuqhCa7ZfMGu"
      },
      "source": [
        "#### `Q3) Create a 1-D numpy array of size 10 with random integer values ranging from 40 to 69. Once created print the sorted array.`"
      ]
    },
    {
      "cell_type": "code",
      "execution_count": null,
      "metadata": {
        "id": "TDf64tzffINq"
      },
      "outputs": [],
      "source": [
        "np.random.seed(0)\n",
        "z=np.random.randint(40,69, size=10)\n",
        "print(z)"
      ]
    },
    {
      "cell_type": "markdown",
      "metadata": {
        "id": "ODXvYSy7fM8D"
      },
      "source": [
        "#### `Q4) Find indices of non-zero elements in [1,5,0,0,53,78,4,0,21,79,0,4,5,17]`"
      ]
    },
    {
      "cell_type": "code",
      "execution_count": null,
      "metadata": {
        "id": "YYhCBaN7fIIo"
      },
      "outputs": [],
      "source": [
        "l=[1,5,0,0,53,78,4,0,21,79,0,4,5,17]\n",
        "z=np.array(l)\n",
        "for i in range(len(l)):\n",
        "    if z[i]!=0:\n",
        "        print(i)\n",
        "    else:\n",
        "        continue"
      ]
    },
    {
      "cell_type": "markdown",
      "metadata": {
        "id": "KZLuX9VffNYT"
      },
      "source": [
        "\n",
        "#### `Q5) Create a random vector and replce the maximum element by 10`"
      ]
    },
    {
      "cell_type": "code",
      "execution_count": null,
      "metadata": {
        "id": "vaxjm68ifIA7"
      },
      "outputs": [],
      "source": []
    }
  ],
  "metadata": {
    "colab": {
      "include_colab_link": true,
      "provenance": [],
      "toc_visible": true
    },
    "kernelspec": {
      "display_name": "Python 3",
      "name": "python3"
    },
    "language_info": {
      "name": "python"
    }
  },
  "nbformat": 4,
  "nbformat_minor": 0
}
