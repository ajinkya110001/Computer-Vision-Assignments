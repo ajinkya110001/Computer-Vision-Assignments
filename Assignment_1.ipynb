{
  "cells": [
    {
      "cell_type": "markdown",
      "metadata": {
        "colab_type": "text",
        "id": "view-in-github"
      },
      "source": [
        "<a href=\"https://colab.research.google.com/github/kumarpriyanshu2k2/Computer-Vision-Assignments/blob/main/Assignment_1.ipynb\" target=\"_parent\"><img src=\"https://colab.research.google.com/assets/colab-badge.svg\" alt=\"Open In Colab\"/></a>"
      ]
    },
    {
      "cell_type": "markdown",
      "metadata": {
        "id": "5gnVmnCuRVO6"
      },
      "source": [
        "<center>\n",
        "<h1><strong> Computer Vision assignment </strong></h1>\n",
        "</center>"
      ]
    },
    {
      "cell_type": "markdown",
      "metadata": {
        "id": "0zSwRgknRiQu"
      },
      "source": [
        "**This assignment will challenge your understanding of basic python programming paradigm and evaluate your intution of problem solving**\n",
        "\n",
        "- Make sure all the implementations are general and should work for any test case that we use\n",
        "\n",
        "\n"
      ]
    },
    {
      "cell_type": "markdown",
      "metadata": {
        "id": "IRUoYr2u2Eeg"
      },
      "source": [
        "## **Instructions :**"
      ]
    },
    {
      "cell_type": "markdown",
      "metadata": {
        "id": "si5j_ygayB6p"
      },
      "source": [
        "\n",
        "- Make a copy of this Colab notebook (else any changes you make wont be saved)\n",
        "- Feel free to add more code blocks in between questions if you feel you need it\n"
      ]
    },
    {
      "cell_type": "markdown",
      "metadata": {
        "id": "Zi29DVxm2Wek"
      },
      "source": [
        "---\n",
        "## **Part 1: Python**"
      ]
    },
    {
      "cell_type": "markdown",
      "metadata": {
        "id": "PEUy0L1abA7z"
      },
      "source": [
        "\n",
        "\n",
        "#### `Q1) Check if a given string is a palindrome`"
      ]
    },
    {
      "cell_type": "code",
      "execution_count": null,
      "metadata": {
        "id": "d2TGFIWM7w8Y"
      },
      "outputs": [],
      "source": [
        "x=input(\"Enter a word: \")\n",
        "#write your code here\n",
        "if x[::]==x[::-1]:\n",
        "    print(\"Its a palindrome!!\")\n",
        "else:\n",
        "    print(\"Not a palindrome.\")\n"
      ]
    },
    {
      "cell_type": "markdown",
      "metadata": {
        "id": "zbU37-UUbWsU"
      },
      "source": [
        "#### `Q2) Write a program to check if the two input strings are an anagram of eachother or not ` "
      ]
    },
    {
      "cell_type": "code",
      "execution_count": null,
      "metadata": {
        "id": "XRXZVbNjbUZ5"
      },
      "outputs": [],
      "source": [
        "#write your code here\n",
        "x=input(\"Enter word1: \")\n",
        "y=input(\"Enter word2: \")\n",
        "lx=list(x)\n",
        "ly=list(y)\n",
        "\n",
        "if lx.sort()==ly.sort():\n",
        "    print(\"Its an Anagram!!\")\n",
        "else:\n",
        "    print(\"Sorry not an Anagram.\")\n"
      ]
    },
    {
      "cell_type": "markdown",
      "metadata": {
        "id": "wpUP6XANbXh4"
      },
      "source": [
        "#### `Q3) print all the duplicate letters in the string \"Electronics and Robotics club\"`"
      ]
    },
    {
      "cell_type": "code",
      "execution_count": null,
      "metadata": {
        "id": "xsDdleNzbVI-"
      },
      "outputs": [],
      "source": [
        "#write your code here\n",
        "x=\"electronics and robotics club\"\n",
        "lx=list(x)\n",
        "l=[]\n",
        "for i in range(len(lx)):\n",
        "    if lx[i]!=\" \":\n",
        "        if lx.count(lx[i])!=1 and (lx[i] not in l)==True:\n",
        "            l.append(lx[i])\n",
        "        else:\n",
        "            continue\n",
        "    else:\n",
        "        continue\n",
        "for j in range(len(l)):\n",
        "    p=l.pop()\n",
        "    print(p)\n",
        "\n",
        "\n"
      ]
    },
    {
      "cell_type": "markdown",
      "metadata": {
        "id": "2yeBy0QCbbeE"
      },
      "source": [
        "#### `Q4) Given below is a list of dictionaries, create a new sorted list containing unique values from the dictionary elements.`\n",
        "\n",
        "> <em>dictionary_syntax = {key : value}</em>\n",
        "\n",
        "> <em>Essentially, create a unique list of all the values</em>"
      ]
    },
    {
      "cell_type": "code",
      "execution_count": null,
      "metadata": {
        "id": "H-JbYS7GbaMW"
      },
      "outputs": [],
      "source": [
        "#Implement your solution on the given list of dictionaries, assume that this is a dummy test case - however your solution should work for all lists of dictionaries\n",
        "my_list=[\n",
        "     {\"first\":\"1\"}, \n",
        "     {\"second\": \"2\"}, \n",
        "     {\"third\": \"1\"}, \n",
        "     {\"four\": \"5\"}, \n",
        "     {\"five\":\"5\"}, \n",
        "     {\"six\":\"9\"},\n",
        "     {\"seven\":\"7\"}\n",
        "    ]\n",
        "# write your code here\n",
        "l=[]\n",
        "for i in range(0,len(my_list)):\n",
        "    v=list(my_list[i].values())\n",
        "    p=int(v.pop())   \n",
        "    if (p not in l) == True:\n",
        "        l.append(p)\n",
        "    else:\n",
        "        continue\n",
        "\n",
        "l.sort()\n",
        "print(l)\n",
        "\n",
        "\n",
        "\n",
        "#expected solution [1,2,5,7,9]"
      ]
    }
  ],
  "metadata": {
    "colab": {
      "include_colab_link": true,
      "provenance": [],
      "toc_visible": true
    },
    "kernelspec": {
      "display_name": "Python 3",
      "name": "python3"
    },
    "language_info": {
      "name": "python"
    }
  },
  "nbformat": 4,
  "nbformat_minor": 0
}
